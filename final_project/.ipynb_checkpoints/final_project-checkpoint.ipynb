{
 "cells": [
  {
   "cell_type": "markdown",
   "metadata": {},
   "source": [
    "`Auteur: Fallou Tall`"
   ]
  },
  {
   "cell_type": "markdown",
   "metadata": {},
   "source": [
    "# Projet Final"
   ]
  },
  {
   "cell_type": "markdown",
   "metadata": {},
   "source": [
    "## Problematique"
   ]
  },
  {
   "cell_type": "markdown",
   "metadata": {},
   "source": [
    "*Analyse des types et de la qualité des vins*\n",
    "\n",
    "Les jeux de données utilisés dans ce chapitre sont disponibles dans le référentiel UCI Machine Learning très populaire sous le nom de Wine Quality Data Set. Vous pouvez accéder à plus de détails sur https://archive.ics.uci.edu/ml/datasets/wine+quality, qui vous donne accès aux ensembles de données brutes ainsi que des détails sur les différentes fonctionnalités des ensembles de données. Il existe deux ensembles de données, l'un pour les vins rouges et l'autre pour les vins blancs. Pour être plus précis, les ensembles de données sur le vin sont liés à des échantillons de vin rouge et blanc vinho verde, du nord du Portugal. Un autre fichier de la même page Web décrit les détails des ensembles de données, y compris les informations d'attribut. "
   ]
  },
  {
   "cell_type": "markdown",
   "metadata": {},
   "source": [
    "## Objectifs"
   ]
  },
  {
   "cell_type": "markdown",
   "metadata": {},
   "source": [
    "Vos principaux objectifs consistent a résoudre les problèmes majeurs suivants en tirant parti du Machine Learning et de l'analyse des données sur notre ensemble de données sur la qualité du vin.\n",
    "* 1. Prédir si chaque échantillon de vin est un vin rouge ou blanc.\n",
    "* 2. Prédir la qualité de chaque échantillon de vin, qui peut être faible, moyenne ou élevée."
   ]
  },
  {
   "cell_type": "markdown",
   "metadata": {},
   "source": [
    "## Travail de l'etudiant"
   ]
  },
  {
   "cell_type": "markdown",
   "metadata": {},
   "source": [
    "* **1. Analyse Exploratoire** -- \n",
    "reference: chapitre 3\n",
    "* **2. Preparation des donnees** -- \n",
    "reference: chapitre 4\n",
    "* **3. Training, Evaluation et Selection de Modele du Type de Vin** --\n",
    "reference: chapitre 5 et 6\n",
    "* **4. Training, Evaluation et Selection du Modele du la Qualite de Vin** --  \n",
    "reference: chapitre 5 et 6\n",
    "\n",
    "Le tout dans un projet poetry nommer wine-<initial+name>: par exemple pour moi ca sera `wine-ftall`"
   ]
  },
  {
   "cell_type": "code",
   "execution_count": null,
   "metadata": {},
   "outputs": [],
   "source": []
  }
 ],
 "metadata": {
  "kernelspec": {
   "display_name": "Python 3",
   "language": "python",
   "name": "python3"
  },
  "language_info": {
   "codemirror_mode": {
    "name": "ipython",
    "version": 3
   },
   "file_extension": ".py",
   "mimetype": "text/x-python",
   "name": "python",
   "nbconvert_exporter": "python",
   "pygments_lexer": "ipython3",
   "version": "3.7.0"
  }
 },
 "nbformat": 4,
 "nbformat_minor": 4
}
